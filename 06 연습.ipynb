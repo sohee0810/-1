{
 "cells": [
  {
   "cell_type": "code",
   "execution_count": 3,
   "id": "df57c184",
   "metadata": {},
   "outputs": [
    {
     "name": "stdout",
     "output_type": "stream",
     "text": [
      "A,B,C,D,E 학생들을 순서대로 세우는 경우의수 : 120\n"
     ]
    }
   ],
   "source": [
    "i = 0\n",
    "fact = 1\n",
    "friendnum =5\n",
    "for i in range (1, friendnum+1 , 1 ) :\n",
    "    fact = fact *i\n",
    "    \n",
    "print( 'A,B,C,D,E 학생들을 순서대로 세우는 경우의수 :', fact)"
   ]
  },
  {
   "cell_type": "code",
   "execution_count": 6,
   "id": "0074aaea",
   "metadata": {},
   "outputs": [
    {
     "name": "stdout",
     "output_type": "stream",
     "text": [
      "2 * 1 = 2\n",
      "2 * 2 = 4\n",
      "2 * 3 = 6\n",
      "2 * 4 = 8\n",
      "2 * 5 = 10\n",
      "2 * 6 = 12\n",
      "2 * 7 = 14\n",
      "2 * 8 = 16\n",
      "2 * 9 = 18\n",
      "\n",
      "3 * 1 = 3\n",
      "3 * 2 = 6\n",
      "3 * 3 = 9\n",
      "3 * 4 = 12\n",
      "3 * 5 = 15\n",
      "3 * 6 = 18\n",
      "3 * 7 = 21\n",
      "3 * 8 = 24\n",
      "3 * 9 = 27\n",
      "\n",
      "4 * 1 = 4\n",
      "4 * 2 = 8\n",
      "4 * 3 = 12\n",
      "4 * 4 = 16\n",
      "4 * 5 = 20\n",
      "4 * 6 = 24\n",
      "4 * 7 = 28\n",
      "4 * 8 = 32\n",
      "4 * 9 = 36\n",
      "\n",
      "5 * 1 = 5\n",
      "5 * 2 = 10\n",
      "5 * 3 = 15\n",
      "5 * 4 = 20\n",
      "5 * 5 = 25\n",
      "5 * 6 = 30\n",
      "5 * 7 = 35\n",
      "5 * 8 = 40\n",
      "5 * 9 = 45\n",
      "\n",
      "6 * 1 = 6\n",
      "6 * 2 = 12\n",
      "6 * 3 = 18\n",
      "6 * 4 = 24\n",
      "6 * 5 = 30\n",
      "6 * 6 = 36\n",
      "6 * 7 = 42\n",
      "6 * 8 = 48\n",
      "6 * 9 = 54\n",
      "\n",
      "7 * 1 = 7\n",
      "7 * 2 = 14\n",
      "7 * 3 = 21\n",
      "7 * 4 = 28\n",
      "7 * 5 = 35\n",
      "7 * 6 = 42\n",
      "7 * 7 = 49\n",
      "7 * 8 = 56\n",
      "7 * 9 = 63\n",
      "\n",
      "8 * 1 = 8\n",
      "8 * 2 = 16\n",
      "8 * 3 = 24\n",
      "8 * 4 = 32\n",
      "8 * 5 = 40\n",
      "8 * 6 = 48\n",
      "8 * 7 = 56\n",
      "8 * 8 = 64\n",
      "8 * 9 = 72\n",
      "\n",
      "9 * 1 = 9\n",
      "9 * 2 = 18\n",
      "9 * 3 = 27\n",
      "9 * 4 = 36\n",
      "9 * 5 = 45\n",
      "9 * 6 = 54\n",
      "9 * 7 = 63\n",
      "9 * 8 = 72\n",
      "9 * 9 = 81\n",
      "\n"
     ]
    }
   ],
   "source": [
    "i =0\n",
    "k =0\n",
    "for i in range (2, 10, 1):\n",
    "    for k in range(1,10,1) :\n",
    "        print(i,'*',k,'=',i*k)\n",
    "    print('')\n",
    "    "
   ]
  },
  {
   "cell_type": "code",
   "execution_count": 8,
   "id": "87689709",
   "metadata": {},
   "outputs": [
    {
     "name": "stdout",
     "output_type": "stream",
     "text": [
      "3개의 주사위는 모두 4 입니다\n",
      "같은 숫자가 나오기 까지  150 번 던졌습니다.\n"
     ]
    }
   ],
   "source": [
    "import random\n",
    "count = 0\n",
    "d1, d2, d3 = 0,0,0\n",
    "while True :\n",
    "    count+=1\n",
    "    d1=random.randint(1,6)\n",
    "    d2=random.randint(1,6)\n",
    "    d3=random.randint(1,6)\n",
    "    if (d1==d2) and (d2==d3) :\n",
    "        break\n",
    "print('3개의 주사위는 모두', d1, '입니다')\n",
    "print('같은 숫자가 나오기 까지 ', count,'번 던졌습니다.')"
   ]
  },
  {
   "cell_type": "code",
   "execution_count": null,
   "id": "3236bf18",
   "metadata": {},
   "outputs": [],
   "source": [
    "import random\n",
    "computer, user = 0,0\n",
    "for i in range (1,11,1) :\n",
    "    computer = random.randint(1,5)\n",
    "    print('게임', i, '회', end='')\n",
    "    user = int(input('컴퓨터가 생각하는숫자는 ?'))\n",
    "    if computer ==user :\n",
    "        print('맞혔네요. 축하합니다!')\n",
    "        break\n",
    "    else :\n",
    "        print('아까워요', computer, '였는데요.다시해보세요 ㅜ')\n",
    "        continue\n",
    "print ('게임을 마칩니다. ')"
   ]
  },
  {
   "cell_type": "code",
   "execution_count": null,
   "id": "bea43b55",
   "metadata": {},
   "outputs": [],
   "source": []
  },
  {
   "cell_type": "code",
   "execution_count": null,
   "id": "a3da54ac",
   "metadata": {},
   "outputs": [],
   "source": []
  }
 ],
 "metadata": {
  "kernelspec": {
   "display_name": "Python 3",
   "language": "python",
   "name": "python3"
  },
  "language_info": {
   "codemirror_mode": {
    "name": "ipython",
    "version": 3
   },
   "file_extension": ".py",
   "mimetype": "text/x-python",
   "name": "python",
   "nbconvert_exporter": "python",
   "pygments_lexer": "ipython3",
   "version": "3.8.8"
  }
 },
 "nbformat": 4,
 "nbformat_minor": 5
}
